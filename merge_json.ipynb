{
 "cells": [
  {
   "cell_type": "code",
   "execution_count": 1,
   "metadata": {},
   "outputs": [],
   "source": [
    "import json\n",
    "import os\n",
    "import itertools\n",
    "\n",
    "all_data = []\n",
    "for i in range(4):\n",
    "    path = 'datasets/CeleV-Text/processed_sd15_{}.json'.format(i)\n",
    "    with open(path, 'r') as file:\n",
    "        loaded_data = json.load(file)\n",
    "    all_data.append(loaded_data)\n"
   ]
  },
  {
   "cell_type": "code",
   "execution_count": 2,
   "metadata": {},
   "outputs": [
    {
     "data": {
      "text/plain": [
       "{'path': '/group/40033/public_datasets/CeleV-Text//processed_sd15/-17yOq_AoFA_23_0.pt',\n",
       " 'prompt': 'This male wears goatee. This man has sideburns and beard.Firstly, this male talks for a moderate time, next he turns for a moderate time.At the beginning, this man has a neutral expression, he eventually turns surprised.The light direction is front lighting for the whole video.The color temperature is daylight.The video intensity is bright.'}"
      ]
     },
     "execution_count": 2,
     "metadata": {},
     "output_type": "execute_result"
    }
   ],
   "source": [
    "all_data[0][0]"
   ]
  },
  {
   "cell_type": "code",
   "execution_count": 3,
   "metadata": {},
   "outputs": [],
   "source": [
    "all_data = itertools.chain(*all_data)"
   ]
  },
  {
   "cell_type": "code",
   "execution_count": 4,
   "metadata": {},
   "outputs": [
    {
     "data": {
      "text/plain": [
       "{'path': '/group/40033/public_datasets/CeleV-Text//processed_sd15/-17yOq_AoFA_23_0.pt',\n",
       " 'prompt': 'This male wears goatee. This man has sideburns and beard.Firstly, this male talks for a moderate time, next he turns for a moderate time.At the beginning, this man has a neutral expression, he eventually turns surprised.The light direction is front lighting for the whole video.The color temperature is daylight.The video intensity is bright.'}"
      ]
     },
     "execution_count": 4,
     "metadata": {},
     "output_type": "execute_result"
    }
   ],
   "source": [
    "all_data= list(all_data)\n",
    "all_data[0]"
   ]
  },
  {
   "cell_type": "code",
   "execution_count": 5,
   "metadata": {},
   "outputs": [
    {
     "data": {
      "text/plain": [
       "67006"
      ]
     },
     "execution_count": 5,
     "metadata": {},
     "output_type": "execute_result"
    }
   ],
   "source": [
    "len(all_data)"
   ]
  },
  {
   "cell_type": "code",
   "execution_count": 6,
   "metadata": {},
   "outputs": [],
   "source": [
    "with open('datasets/CeleV-Text/processed_sd15.json', 'w') as file:\n",
    "    json.dump(all_data, file, indent=4)"
   ]
  }
 ],
 "metadata": {
  "kernelspec": {
   "display_name": "pytorch",
   "language": "python",
   "name": "python3"
  },
  "language_info": {
   "codemirror_mode": {
    "name": "ipython",
    "version": 3
   },
   "file_extension": ".py",
   "mimetype": "text/x-python",
   "name": "python",
   "nbconvert_exporter": "python",
   "pygments_lexer": "ipython3",
   "version": "3.11.6"
  }
 },
 "nbformat": 4,
 "nbformat_minor": 2
}
