{
 "cells": [
  {
   "cell_type": "code",
   "execution_count": 3,
   "metadata": {},
   "outputs": [],
   "source": [
    "import json\n",
    "import os\n",
    "import itertools\n",
    "\n",
    "all_data = []\n",
    "for i in range(8):\n",
    "    path = 'datasets/CeleV-Text/processed_{}.json'.format(i)\n",
    "    with open(path, 'r') as file:\n",
    "        loaded_data = json.load(file)\n",
    "    all_data.append(loaded_data)\n"
   ]
  },
  {
   "cell_type": "code",
   "execution_count": 4,
   "metadata": {},
   "outputs": [
    {
     "data": {
      "text/plain": [
       "{'path': './datasets/CeleV-Text/processed/--qMwBtoejo_0_0.pt',\n",
       " 'prompt': 'This person is young.The female begins to talks for a short time, then she blinks for a short time, in the end, she turns, wags her head, smiles, and turns at the same time for a short time.At the beginning, the woman has got an expression of neutral, and she then has a face of happiness, and then she has an expression of neutral, and then she has an expression of neutral, and then she has a face of happiness, and then she turns into an expression of surprise, and next she turns into an expression of happiness, and she then has an expression of anger, and next she turns into a face of happiness, and then she has an expression of surprise, she finally turns into an expression of happiness.The light direction is side lighting with 45 degrees to the right of the face for the whole video.The color temperature is daylight.The video intensity is dark.',\n",
       " 'prompt_trigger': 'This person img is young.The female begins to talks for a short time, then she blinks for a short time, in the end, she turns, wags her head, smiles, and turns at the same time for a short time.At the beginning, the woman has got an expression of neutral, and she then has a face of happiness, and then she has an expression of neutral, and then she has an expression of neutral, and then she has a face of happiness, and then she turns into an expression of surprise, and next she turns into an expression of happiness, and she then has an expression of anger, and next she turns into a face of happiness, and then she has an expression of surprise, she finally turns into an expression of happiness.The light direction is side lighting with 45 degrees to the right of the face for the whole video.The color temperature is daylight.The video intensity is dark.'}"
      ]
     },
     "execution_count": 4,
     "metadata": {},
     "output_type": "execute_result"
    }
   ],
   "source": [
    "all_data[0][0]"
   ]
  },
  {
   "cell_type": "code",
   "execution_count": 5,
   "metadata": {},
   "outputs": [],
   "source": [
    "all_data = itertools.chain(*all_data)"
   ]
  },
  {
   "cell_type": "code",
   "execution_count": 7,
   "metadata": {},
   "outputs": [
    {
     "data": {
      "text/plain": [
       "{'path': './datasets/CeleV-Text/processed/--qMwBtoejo_0_0.pt',\n",
       " 'prompt': 'This person is young.The female begins to talks for a short time, then she blinks for a short time, in the end, she turns, wags her head, smiles, and turns at the same time for a short time.At the beginning, the woman has got an expression of neutral, and she then has a face of happiness, and then she has an expression of neutral, and then she has an expression of neutral, and then she has a face of happiness, and then she turns into an expression of surprise, and next she turns into an expression of happiness, and she then has an expression of anger, and next she turns into a face of happiness, and then she has an expression of surprise, she finally turns into an expression of happiness.The light direction is side lighting with 45 degrees to the right of the face for the whole video.The color temperature is daylight.The video intensity is dark.',\n",
       " 'prompt_trigger': 'This person img is young.The female begins to talks for a short time, then she blinks for a short time, in the end, she turns, wags her head, smiles, and turns at the same time for a short time.At the beginning, the woman has got an expression of neutral, and she then has a face of happiness, and then she has an expression of neutral, and then she has an expression of neutral, and then she has a face of happiness, and then she turns into an expression of surprise, and next she turns into an expression of happiness, and she then has an expression of anger, and next she turns into a face of happiness, and then she has an expression of surprise, she finally turns into an expression of happiness.The light direction is side lighting with 45 degrees to the right of the face for the whole video.The color temperature is daylight.The video intensity is dark.'}"
      ]
     },
     "execution_count": 7,
     "metadata": {},
     "output_type": "execute_result"
    }
   ],
   "source": [
    "all_data= list(all_data)\n",
    "all_data[0]"
   ]
  },
  {
   "cell_type": "code",
   "execution_count": 8,
   "metadata": {},
   "outputs": [
    {
     "data": {
      "text/plain": [
       "67554"
      ]
     },
     "execution_count": 8,
     "metadata": {},
     "output_type": "execute_result"
    }
   ],
   "source": [
    "len(all_data)"
   ]
  },
  {
   "cell_type": "code",
   "execution_count": 9,
   "metadata": {},
   "outputs": [],
   "source": [
    "with open('datasets/CeleV-Text/processed.json', 'w') as file:\n",
    "    json.dump(all_data, file, indent=4)"
   ]
  }
 ],
 "metadata": {
  "kernelspec": {
   "display_name": "pytorch",
   "language": "python",
   "name": "python3"
  },
  "language_info": {
   "codemirror_mode": {
    "name": "ipython",
    "version": 3
   },
   "file_extension": ".py",
   "mimetype": "text/x-python",
   "name": "python",
   "nbconvert_exporter": "python",
   "pygments_lexer": "ipython3",
   "version": "3.10.14"
  }
 },
 "nbformat": 4,
 "nbformat_minor": 2
}
