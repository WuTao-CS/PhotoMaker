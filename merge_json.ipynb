{
 "cells": [
  {
   "cell_type": "code",
   "execution_count": 2,
   "metadata": {},
   "outputs": [],
   "source": [
    "import json\n",
    "import os\n",
    "import itertools\n",
    "\n",
    "all_data = []\n",
    "for i in range(4):\n",
    "    path = '/group/40007/public_datasets/CeleV-Text/processed_sdxl_512_{}.json'.format(i)\n",
    "    with open(path, 'r') as file:\n",
    "        loaded_data = json.load(file)\n",
    "    all_data.append(loaded_data)\n"
   ]
  },
  {
   "cell_type": "code",
   "execution_count": 3,
   "metadata": {},
   "outputs": [
    {
     "output_type": "execute_result",
     "data": {
      "text/plain": [
       "{'path': '/group/40033/public_datasets/CeleV-Text//processed_sdxl_512/-B4DZ2EYmgY_20_0.pt',\n",
       " 'prompt': 'This person is wearing eyeglasses. She is young.This woman talks for a long time.The woman begins with an expression of happiness, in the end, she turns into a face of surprise.The light direction is front lighting for the whole video.The color temperature is cool white.The light intensity of the video is dark.',\n",
       " 'prompt_trigger': 'This person img is wearing eyeglasses. She is young.This woman talks for a long time.The woman begins with an expression of happiness, in the end, she turns into a face of surprise.The light direction is front lighting for the whole video.The color temperature is cool white.The light intensity of the video is dark.'}"
      ]
     },
     "metadata": {},
     "execution_count": 3
    }
   ],
   "source": [
    "all_data[0][0]"
   ]
  },
  {
   "cell_type": "code",
   "execution_count": 4,
   "metadata": {},
   "outputs": [],
   "source": [
    "all_data = itertools.chain(*all_data)"
   ]
  },
  {
   "cell_type": "code",
   "execution_count": 5,
   "metadata": {},
   "outputs": [
    {
     "output_type": "execute_result",
     "data": {
      "text/plain": [
       "{'path': '/group/40033/public_datasets/CeleV-Text//processed_sdxl_512/-B4DZ2EYmgY_20_0.pt',\n",
       " 'prompt': 'This person is wearing eyeglasses. She is young.This woman talks for a long time.The woman begins with an expression of happiness, in the end, she turns into a face of surprise.The light direction is front lighting for the whole video.The color temperature is cool white.The light intensity of the video is dark.',\n",
       " 'prompt_trigger': 'This person img is wearing eyeglasses. She is young.This woman talks for a long time.The woman begins with an expression of happiness, in the end, she turns into a face of surprise.The light direction is front lighting for the whole video.The color temperature is cool white.The light intensity of the video is dark.'}"
      ]
     },
     "metadata": {},
     "execution_count": 5
    }
   ],
   "source": [
    "all_data= list(all_data)\n",
    "all_data[0]"
   ]
  },
  {
   "cell_type": "code",
   "execution_count": 6,
   "metadata": {},
   "outputs": [
    {
     "output_type": "execute_result",
     "data": {
      "text/plain": [
       "63426"
      ]
     },
     "metadata": {},
     "execution_count": 6
    }
   ],
   "source": [
    "len(all_data)"
   ]
  },
  {
   "cell_type": "code",
   "execution_count": 7,
   "metadata": {},
   "outputs": [],
   "source": [
    "with open('datasets/CeleV-Text/processed_sdxl_512.json', 'w') as file:\n",
    "    json.dump(all_data, file, indent=4)"
   ]
  },
  {
   "cell_type": "code",
   "execution_count": null,
   "metadata": {},
   "outputs": [],
   "source": []
  }
 ],
 "metadata": {
  "kernelspec": {
   "display_name": "Python 3",
   "language": "python",
   "name": "python3"
  },
  "language_info": {
   "codemirror_mode": {
    "name": "ipython",
    "version": 3
   },
   "file_extension": ".py",
   "mimetype": "text/x-python",
   "name": "python",
   "nbconvert_exporter": "python",
   "pygments_lexer": "ipython3",
   "version": "3.10.6"
  }
 },
 "nbformat": 4,
 "nbformat_minor": 2
}